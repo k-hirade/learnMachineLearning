{
 "cells": [
  {
   "cell_type": "code",
   "execution_count": 17,
   "id": "7c485b5b",
   "metadata": {},
   "outputs": [],
   "source": [
    "import numpy as np\n",
    "# 前処理にsklearnライブラリを使用\n",
    "from sklearn import preprocessing\n",
    "# delimiterは区切りを指定\n",
    "raw_csv_data = np.loadtxt('Audiobooks data.csv',delimiter=',')\n",
    "\n",
    "# 最初のIDの列と、ターゲットである最後の列を取り除いた上で変数に代入\n",
    "unscaled_inputs_all = raw_csv_data[:,1:-1]\n",
    "# 最後の列のデータをターゲットとして変数に代入\n",
    "targets_all = raw_csv_data[:,-1]"
   ]
  },
  {
   "cell_type": "code",
   "execution_count": 21,
   "id": "246bed87",
   "metadata": {},
   "outputs": [],
   "source": [
    "# ターゲットデータの数\n",
    "num_one_targets = int(np.sum(targets_all))\n",
    "\n",
    "# 数を数えるための変数を定義\n",
    "zero_tagets_counter = 0\n",
    "\n",
    "# バランスを取る際に不要なデータの保管場所\n",
    "indices_to_remove = []\n",
    "\n",
    "# ターゲットの数を数え、その数を超える0のデータがあった場合はリストにその値をいれていく\n",
    "#　＝　0と1(target)の数を揃える\n",
    "for i in range(targets_all.shape[0]):\n",
    "    if targets_all[i] == 0:\n",
    "        zero_tagets_counter +=1\n",
    "        if zero_tagets_counter >num_one_targets:\n",
    "            indices_to_remove.append(i)\n",
    "            \n",
    "# 入力とターゲットを入れるための変数を定義\n",
    "# バランスが取れていないデータを削除(0と1のバランスを取る)\n",
    "unscaled_inputs_equal_priors = np.delete(unscaled_inputs_all, indices_to_remove, axis=0)\n",
    "targets_equal_priors = np.delete(targets_all, indices_to_remove, axis=0)"
   ]
  },
  {
   "cell_type": "code",
   "execution_count": 22,
   "id": "6f3e96db",
   "metadata": {},
   "outputs": [],
   "source": [
    "# sklearnのモジュールを使って前処理\n",
    "scaled_inputs = preprocessing.scale(unscaled_inputs_equal_priors)"
   ]
  },
  {
   "cell_type": "code",
   "execution_count": 25,
   "id": "1cc87437",
   "metadata": {},
   "outputs": [],
   "source": [
    "#データをシャッフル\n",
    "shuffled_indices = np.arange(scaled_inputs.shape[0])\n",
    "np.random.shuffle(shuffled_indices)\n",
    "\n",
    "# シャッフルしたデータを変数に代入\n",
    "shuffled_inputs = scaled_inputs[shuffled_indices]\n",
    "shuffled_targets = targets_equal_priors[shuffled_indices]"
   ]
  },
  {
   "cell_type": "code",
   "execution_count": 27,
   "id": "1fcb56ab",
   "metadata": {},
   "outputs": [
    {
     "name": "stdout",
     "output_type": "stream",
     "text": [
      "1787.0 3579 0.4993014808605756\n",
      "219.0 447 0.4899328859060403\n",
      "231.0 448 0.515625\n"
     ]
    }
   ],
   "source": [
    "# データの数\n",
    "samples_count = shuffled_inputs.shape[0]\n",
    "\n",
    "# 80-10-10に分けることを前提として、訓練用と検証用のデータの数を定義\n",
    "train_samples_count = int(0.8 * samples_count)\n",
    "validation_samples_count = int(0.1 * samples_count)\n",
    "\n",
    "# テスト用のデータの数を定義\n",
    "test_samples_count = samples_count - train_samples_count - validation_samples_count\n",
    "\n",
    "# 訓練用データを作成\n",
    "train_inputs = shuffled_inputs[:train_samples_count]\n",
    "train_targets = shuffled_targets[:train_samples_count]\n",
    "\n",
    "# 検証用データを作成(0.8-0.9まで)\n",
    "validation_inputs = shuffled_inputs[train_samples_count:train_samples_count+validation_samples_count]\n",
    "validation_targets = shuffled_targets[train_samples_count:train_samples_count+validation_samples_count]\n",
    "\n",
    "# テスト用データを作成\n",
    "test_inputs = shuffled_inputs[train_samples_count+validation_samples_count:]\n",
    "test_targets = shuffled_targets[train_samples_count+validation_samples_count:]\n",
    "\n",
    "\n",
    "# 作成したデータの中の１と０の割合を確認\n",
    "print(np.sum(train_targets), train_samples_count, np.sum(train_targets) / train_samples_count)\n",
    "print(np.sum(validation_targets), validation_samples_count, np.sum(validation_targets) / validation_samples_count)\n",
    "print(np.sum(test_targets), test_samples_count, np.sum(test_targets) / test_samples_count)"
   ]
  },
  {
   "cell_type": "code",
   "execution_count": 29,
   "id": "05c6c200",
   "metadata": {},
   "outputs": [],
   "source": [
    "# Ssavezメソッドを使ってデータを保存\n",
    "np.savez('Audiobooks_data_train', inputs=train_inputs, targets=train_targets)\n",
    "np.savez('Audiobooks_data_validation', inputs=validation_inputs, targets=validation_targets)\n",
    "np.savez('Audiobooks_data_test', inputs=test_inputs, targets=test_targets)"
   ]
  },
  {
   "cell_type": "code",
   "execution_count": null,
   "id": "6fe9452d",
   "metadata": {},
   "outputs": [],
   "source": []
  },
  {
   "cell_type": "code",
   "execution_count": null,
   "id": "5331d3e6",
   "metadata": {},
   "outputs": [],
   "source": []
  },
  {
   "cell_type": "code",
   "execution_count": null,
   "id": "0920f000",
   "metadata": {},
   "outputs": [],
   "source": []
  },
  {
   "cell_type": "code",
   "execution_count": null,
   "id": "2b88e9c4",
   "metadata": {},
   "outputs": [],
   "source": []
  }
 ],
 "metadata": {
  "kernelspec": {
   "display_name": "Python 3 (ipykernel)",
   "language": "python",
   "name": "python3"
  },
  "language_info": {
   "codemirror_mode": {
    "name": "ipython",
    "version": 3
   },
   "file_extension": ".py",
   "mimetype": "text/x-python",
   "name": "python",
   "nbconvert_exporter": "python",
   "pygments_lexer": "ipython3",
   "version": "3.7.11"
  }
 },
 "nbformat": 4,
 "nbformat_minor": 5
}
